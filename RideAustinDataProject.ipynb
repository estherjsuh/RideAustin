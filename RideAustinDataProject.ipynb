{
 "cells": [
  {
   "cell_type": "markdown",
   "metadata": {},
   "source": [
    "# RideAustin Data Project"
   ]
  },
  {
   "cell_type": "markdown",
   "metadata": {},
   "source": [
    "### RideAustin Data from data.world\n",
    "### Ride data from June 2016 - April 2017\n",
    "\n",
    "#### Esther Suh"
   ]
  },
  {
   "cell_type": "code",
   "execution_count": 2,
   "metadata": {
    "collapsed": false
   },
   "outputs": [
    {
     "name": "stderr",
     "output_type": "stream",
     "text": [
      "/Users/esther/anaconda/lib/python2.7/site-packages/matplotlib/font_manager.py:273: UserWarning: Matplotlib is building the font cache using fc-list. This may take a moment.\n",
      "  warnings.warn('Matplotlib is building the font cache using fc-list. This may take a moment.')\n"
     ]
    }
   ],
   "source": [
    "import pandas as pd\n",
    "import numpy as np\n",
    "import matplotlib.pyplot as plt\n",
    "import seaborn as sns"
   ]
  },
  {
   "cell_type": "markdown",
   "metadata": {},
   "source": [
    "## Part 1 of RideAustin Data"
   ]
  },
  {
   "cell_type": "code",
   "execution_count": 3,
   "metadata": {
    "collapsed": true
   },
   "outputs": [],
   "source": [
    "df = pd.read_csv('https://query.data.world/s/kw3bkr2haxalgzcit3snux4yrtqmtf')"
   ]
  },
  {
   "cell_type": "code",
   "execution_count": 4,
   "metadata": {
    "collapsed": false
   },
   "outputs": [
    {
     "data": {
      "text/plain": [
       "(1494125, 21)"
      ]
     },
     "execution_count": 4,
     "metadata": {},
     "output_type": "execute_result"
    }
   ],
   "source": [
    "df.shape"
   ]
  },
  {
   "cell_type": "code",
   "execution_count": 5,
   "metadata": {
    "collapsed": false
   },
   "outputs": [
    {
     "data": {
      "text/plain": [
       "Index([u'RIDE_ID', u'started_on', u'created_date', u'updated_date',\n",
       "       u'completed_on', u'distance_travelled', u'end_location_lat',\n",
       "       u'end_location_long', u'driver_rating', u'rider_rating',\n",
       "       u'active_driver_id', u'charity_id', u'requested_car_category',\n",
       "       u'free_credit_used', u'surge_factor', u'start_location_long',\n",
       "       u'start_location_lat', u'rider_id', u'round_up_amount',\n",
       "       u'promocode_redemption_id', u'driver_reached_on'],\n",
       "      dtype='object')"
      ]
     },
     "execution_count": 5,
     "metadata": {},
     "output_type": "execute_result"
    }
   ],
   "source": [
    "df.columns"
   ]
  },
  {
   "cell_type": "markdown",
   "metadata": {},
   "source": [
    "## Part 2 of RideAustin Data"
   ]
  },
  {
   "cell_type": "code",
   "execution_count": 6,
   "metadata": {
    "collapsed": false
   },
   "outputs": [
    {
     "name": "stderr",
     "output_type": "stream",
     "text": [
      "/Users/esther/anaconda/lib/python2.7/site-packages/IPython/core/interactiveshell.py:2723: DtypeWarning: Columns (7,8) have mixed types. Specify dtype option on import or set low_memory=False.\n",
      "  interactivity=interactivity, compiler=compiler, result=result)\n"
     ]
    }
   ],
   "source": [
    "df2= pd.read_csv('https://query.data.world/s/bmpdbk2e2ags6f5mkrvup3tir7xuax')"
   ]
  },
  {
   "cell_type": "code",
   "execution_count": 7,
   "metadata": {
    "collapsed": false
   },
   "outputs": [
    {
     "data": {
      "text/plain": [
       "(1494125, 24)"
      ]
     },
     "execution_count": 7,
     "metadata": {},
     "output_type": "execute_result"
    }
   ],
   "source": [
    "df2.shape"
   ]
  },
  {
   "cell_type": "code",
   "execution_count": 8,
   "metadata": {
    "collapsed": false
   },
   "outputs": [
    {
     "data": {
      "text/plain": [
       "Index([u'RIDE_ID', u'base_fare', u'total_fare', u'rate_per_mile',\n",
       "       u'rate_per_minute', u'time_fare', u'driver_accepted_on',\n",
       "       u'esimtated_time_arrive', u'tipped_on', u'tip',\n",
       "       u'driving_time_to_rider', u'dispatch_location_lat',\n",
       "       u'dispatch_location_long', u'driving_distance_to_rider',\n",
       "       u'dispatched_on', u'status', u'driver_id', u'car_id', u'color', u'make',\n",
       "       u'model', u'year', u'car_categories_bitmask', u'rating'],\n",
       "      dtype='object')"
      ]
     },
     "execution_count": 8,
     "metadata": {},
     "output_type": "execute_result"
    }
   ],
   "source": [
    "df2.columns"
   ]
  },
  {
   "cell_type": "markdown",
   "metadata": {},
   "source": [
    "## Merging the 2 Datasets"
   ]
  },
  {
   "cell_type": "code",
   "execution_count": 9,
   "metadata": {
    "collapsed": true
   },
   "outputs": [],
   "source": [
    "austin= pd.merge(left= df, right= df2, on='RIDE_ID')"
   ]
  },
  {
   "cell_type": "code",
   "execution_count": 10,
   "metadata": {
    "collapsed": true
   },
   "outputs": [],
   "source": [
    "austin= austin.set_index('RIDE_ID')"
   ]
  },
  {
   "cell_type": "code",
   "execution_count": 11,
   "metadata": {
    "collapsed": false
   },
   "outputs": [
    {
     "data": {
      "text/plain": [
       "(1494125, 43)"
      ]
     },
     "execution_count": 11,
     "metadata": {},
     "output_type": "execute_result"
    }
   ],
   "source": [
    "austin.shape"
   ]
  },
  {
   "cell_type": "code",
   "execution_count": 12,
   "metadata": {
    "collapsed": false
   },
   "outputs": [
    {
     "data": {
      "text/html": [
       "<div>\n",
       "<table border=\"1\" class=\"dataframe\">\n",
       "  <thead>\n",
       "    <tr style=\"text-align: right;\">\n",
       "      <th></th>\n",
       "      <th>started_on</th>\n",
       "      <th>created_date</th>\n",
       "      <th>updated_date</th>\n",
       "      <th>completed_on</th>\n",
       "      <th>distance_travelled</th>\n",
       "      <th>end_location_lat</th>\n",
       "      <th>end_location_long</th>\n",
       "      <th>driver_rating</th>\n",
       "      <th>rider_rating</th>\n",
       "      <th>active_driver_id</th>\n",
       "      <th>...</th>\n",
       "      <th>dispatched_on</th>\n",
       "      <th>status</th>\n",
       "      <th>driver_id</th>\n",
       "      <th>car_id</th>\n",
       "      <th>color</th>\n",
       "      <th>make</th>\n",
       "      <th>model</th>\n",
       "      <th>year</th>\n",
       "      <th>car_categories_bitmask</th>\n",
       "      <th>rating</th>\n",
       "    </tr>\n",
       "    <tr>\n",
       "      <th>RIDE_ID</th>\n",
       "      <th></th>\n",
       "      <th></th>\n",
       "      <th></th>\n",
       "      <th></th>\n",
       "      <th></th>\n",
       "      <th></th>\n",
       "      <th></th>\n",
       "      <th></th>\n",
       "      <th></th>\n",
       "      <th></th>\n",
       "      <th></th>\n",
       "      <th></th>\n",
       "      <th></th>\n",
       "      <th></th>\n",
       "      <th></th>\n",
       "      <th></th>\n",
       "      <th></th>\n",
       "      <th></th>\n",
       "      <th></th>\n",
       "      <th></th>\n",
       "      <th></th>\n",
       "    </tr>\n",
       "  </thead>\n",
       "  <tbody>\n",
       "    <tr>\n",
       "      <th>0</th>\n",
       "      <td>2016-06-04 00:18:49-05:00</td>\n",
       "      <td>2016-06-04 00:10:19-05:00</td>\n",
       "      <td>2016-06-04 00:27:48-05:00</td>\n",
       "      <td>2016-06-04 00:27:32-05:00</td>\n",
       "      <td>8459.0</td>\n",
       "      <td>38.676</td>\n",
       "      <td>-121.039</td>\n",
       "      <td>5.0</td>\n",
       "      <td>5.0</td>\n",
       "      <td>0</td>\n",
       "      <td>...</td>\n",
       "      <td>2016-06-04 05:10:19</td>\n",
       "      <td>b'DISPATCHED'</td>\n",
       "      <td>0</td>\n",
       "      <td>0</td>\n",
       "      <td>b'Gray'</td>\n",
       "      <td>b'Bentley'</td>\n",
       "      <td>b'Continental GT'</td>\n",
       "      <td>b'2013'</td>\n",
       "      <td>1</td>\n",
       "      <td>5.0</td>\n",
       "    </tr>\n",
       "    <tr>\n",
       "      <th>1</th>\n",
       "      <td>2016-06-04 01:50:12-05:00</td>\n",
       "      <td>2016-06-04 01:47:39-05:00</td>\n",
       "      <td>2016-06-04 01:52:00-05:00</td>\n",
       "      <td>2016-06-04 01:51:49-05:00</td>\n",
       "      <td>443.0</td>\n",
       "      <td>38.676</td>\n",
       "      <td>-121.039</td>\n",
       "      <td>5.0</td>\n",
       "      <td>5.0</td>\n",
       "      <td>0</td>\n",
       "      <td>...</td>\n",
       "      <td>2016-06-04 06:47:39</td>\n",
       "      <td>b'DISPATCHED'</td>\n",
       "      <td>0</td>\n",
       "      <td>0</td>\n",
       "      <td>b'Gray'</td>\n",
       "      <td>b'Bentley'</td>\n",
       "      <td>b'Continental GT'</td>\n",
       "      <td>b'2013'</td>\n",
       "      <td>1</td>\n",
       "      <td>5.0</td>\n",
       "    </tr>\n",
       "    <tr>\n",
       "      <th>2</th>\n",
       "      <td>2016-06-04 03:16:02-05:00</td>\n",
       "      <td>2016-06-04 03:13:07-05:00</td>\n",
       "      <td>2016-06-04 03:18:07-05:00</td>\n",
       "      <td>2016-06-04 03:17:57-05:00</td>\n",
       "      <td>568.0</td>\n",
       "      <td>38.676</td>\n",
       "      <td>-121.039</td>\n",
       "      <td>3.0</td>\n",
       "      <td>5.0</td>\n",
       "      <td>1</td>\n",
       "      <td>...</td>\n",
       "      <td>2016-06-04 08:13:07</td>\n",
       "      <td>b'DISPATCHED'</td>\n",
       "      <td>0</td>\n",
       "      <td>0</td>\n",
       "      <td>b'Gray'</td>\n",
       "      <td>b'Bentley'</td>\n",
       "      <td>b'Continental GT'</td>\n",
       "      <td>b'2013'</td>\n",
       "      <td>1</td>\n",
       "      <td>5.0</td>\n",
       "    </tr>\n",
       "    <tr>\n",
       "      <th>3</th>\n",
       "      <td>2016-06-04 10:05:13-05:00</td>\n",
       "      <td>2016-06-04 09:52:35-05:00</td>\n",
       "      <td>2016-06-04 10:14:00-05:00</td>\n",
       "      <td>2016-06-04 10:13:38-05:00</td>\n",
       "      <td>4051.0</td>\n",
       "      <td>30.271</td>\n",
       "      <td>-97.742</td>\n",
       "      <td>5.0</td>\n",
       "      <td>5.0</td>\n",
       "      <td>2</td>\n",
       "      <td>...</td>\n",
       "      <td>2016-06-04 14:52:35</td>\n",
       "      <td>b'DISPATCHED'</td>\n",
       "      <td>1</td>\n",
       "      <td>1</td>\n",
       "      <td>b'Black'</td>\n",
       "      <td>b'Cadillac'</td>\n",
       "      <td>b'XTS'</td>\n",
       "      <td>b'2013'</td>\n",
       "      <td>21</td>\n",
       "      <td>5.0</td>\n",
       "    </tr>\n",
       "    <tr>\n",
       "      <th>4</th>\n",
       "      <td>2016-06-04 10:24:25-05:00</td>\n",
       "      <td>2016-06-04 10:23:25-05:00</td>\n",
       "      <td>2016-06-04 10:26:16-05:00</td>\n",
       "      <td>2016-06-04 10:26:07-05:00</td>\n",
       "      <td>790.0</td>\n",
       "      <td>30.269</td>\n",
       "      <td>-97.752</td>\n",
       "      <td>5.0</td>\n",
       "      <td>5.0</td>\n",
       "      <td>2</td>\n",
       "      <td>...</td>\n",
       "      <td>2016-06-04 15:23:25</td>\n",
       "      <td>b'DISPATCHED'</td>\n",
       "      <td>1</td>\n",
       "      <td>1</td>\n",
       "      <td>b'Black'</td>\n",
       "      <td>b'Cadillac'</td>\n",
       "      <td>b'XTS'</td>\n",
       "      <td>b'2013'</td>\n",
       "      <td>21</td>\n",
       "      <td>5.0</td>\n",
       "    </tr>\n",
       "  </tbody>\n",
       "</table>\n",
       "<p>5 rows × 43 columns</p>\n",
       "</div>"
      ],
      "text/plain": [
       "                        started_on               created_date  \\\n",
       "RIDE_ID                                                         \n",
       "0        2016-06-04 00:18:49-05:00  2016-06-04 00:10:19-05:00   \n",
       "1        2016-06-04 01:50:12-05:00  2016-06-04 01:47:39-05:00   \n",
       "2        2016-06-04 03:16:02-05:00  2016-06-04 03:13:07-05:00   \n",
       "3        2016-06-04 10:05:13-05:00  2016-06-04 09:52:35-05:00   \n",
       "4        2016-06-04 10:24:25-05:00  2016-06-04 10:23:25-05:00   \n",
       "\n",
       "                      updated_date               completed_on  \\\n",
       "RIDE_ID                                                         \n",
       "0        2016-06-04 00:27:48-05:00  2016-06-04 00:27:32-05:00   \n",
       "1        2016-06-04 01:52:00-05:00  2016-06-04 01:51:49-05:00   \n",
       "2        2016-06-04 03:18:07-05:00  2016-06-04 03:17:57-05:00   \n",
       "3        2016-06-04 10:14:00-05:00  2016-06-04 10:13:38-05:00   \n",
       "4        2016-06-04 10:26:16-05:00  2016-06-04 10:26:07-05:00   \n",
       "\n",
       "         distance_travelled  end_location_lat  end_location_long  \\\n",
       "RIDE_ID                                                            \n",
       "0                    8459.0            38.676           -121.039   \n",
       "1                     443.0            38.676           -121.039   \n",
       "2                     568.0            38.676           -121.039   \n",
       "3                    4051.0            30.271            -97.742   \n",
       "4                     790.0            30.269            -97.752   \n",
       "\n",
       "         driver_rating  rider_rating  active_driver_id  ...    \\\n",
       "RIDE_ID                                                 ...     \n",
       "0                  5.0           5.0                 0  ...     \n",
       "1                  5.0           5.0                 0  ...     \n",
       "2                  3.0           5.0                 1  ...     \n",
       "3                  5.0           5.0                 2  ...     \n",
       "4                  5.0           5.0                 2  ...     \n",
       "\n",
       "               dispatched_on         status  driver_id  car_id     color  \\\n",
       "RIDE_ID                                                                    \n",
       "0        2016-06-04 05:10:19  b'DISPATCHED'          0       0   b'Gray'   \n",
       "1        2016-06-04 06:47:39  b'DISPATCHED'          0       0   b'Gray'   \n",
       "2        2016-06-04 08:13:07  b'DISPATCHED'          0       0   b'Gray'   \n",
       "3        2016-06-04 14:52:35  b'DISPATCHED'          1       1  b'Black'   \n",
       "4        2016-06-04 15:23:25  b'DISPATCHED'          1       1  b'Black'   \n",
       "\n",
       "                make              model     year  car_categories_bitmask  \\\n",
       "RIDE_ID                                                                    \n",
       "0         b'Bentley'  b'Continental GT'  b'2013'                       1   \n",
       "1         b'Bentley'  b'Continental GT'  b'2013'                       1   \n",
       "2         b'Bentley'  b'Continental GT'  b'2013'                       1   \n",
       "3        b'Cadillac'             b'XTS'  b'2013'                      21   \n",
       "4        b'Cadillac'             b'XTS'  b'2013'                      21   \n",
       "\n",
       "        rating  \n",
       "RIDE_ID         \n",
       "0          5.0  \n",
       "1          5.0  \n",
       "2          5.0  \n",
       "3          5.0  \n",
       "4          5.0  \n",
       "\n",
       "[5 rows x 43 columns]"
      ]
     },
     "execution_count": 12,
     "metadata": {},
     "output_type": "execute_result"
    }
   ],
   "source": [
    "austin.head()"
   ]
  },
  {
   "cell_type": "markdown",
   "metadata": {},
   "source": [
    "## Finding null values"
   ]
  },
  {
   "cell_type": "code",
   "execution_count": 13,
   "metadata": {
    "collapsed": false
   },
   "outputs": [
    {
     "data": {
      "text/plain": [
       "started_on                         0\n",
       "created_date                       0\n",
       "updated_date                       0\n",
       "completed_on                       0\n",
       "distance_travelled                 2\n",
       "end_location_lat                   0\n",
       "end_location_long                  0\n",
       "driver_rating                 138400\n",
       "rider_rating                   25932\n",
       "active_driver_id                   0\n",
       "charity_id                   1124564\n",
       "requested_car_category             0\n",
       "free_credit_used             1268731\n",
       "surge_factor                       0\n",
       "start_location_long                0\n",
       "start_location_lat                 0\n",
       "rider_id                           0\n",
       "round_up_amount                  773\n",
       "promocode_redemption_id      1455354\n",
       "driver_reached_on               1301\n",
       "base_fare                          0\n",
       "total_fare                         2\n",
       "rate_per_mile                      0\n",
       "rate_per_minute                    0\n",
       "time_fare                          2\n",
       "driver_accepted_on                66\n",
       "esimtated_time_arrive          78537\n",
       "tipped_on                    1063230\n",
       "tip                          1063230\n",
       "driving_time_to_rider          21823\n",
       "dispatch_location_lat              0\n",
       "dispatch_location_long             0\n",
       "driving_distance_to_rider     307358\n",
       "dispatched_on                      0\n",
       "status                             0\n",
       "driver_id                          0\n",
       "car_id                             0\n",
       "color                              0\n",
       "make                               0\n",
       "model                              0\n",
       "year                               0\n",
       "car_categories_bitmask             0\n",
       "rating                             0\n",
       "dtype: int64"
      ]
     },
     "execution_count": 13,
     "metadata": {},
     "output_type": "execute_result"
    }
   ],
   "source": [
    "austin.isnull().sum()\n",
    "# you can see that more drivers leave rider_rating as opposed to riders leaving driver_rating"
   ]
  },
  {
   "cell_type": "code",
   "execution_count": 14,
   "metadata": {
    "collapsed": false
   },
   "outputs": [],
   "source": [
    "austin[['driver_rating', 'rider_rating', 'charity_id', 'free_credit_used', 'round_up_amount','promocode_redemption_id','tipped_on', 'tip']]= austin[['driver_rating', 'rider_rating', 'charity_id', 'free_credit_used', 'round_up_amount', 'promocode_redemption_id','tipped_on', 'tip']].fillna(value=0)"
   ]
  },
  {
   "cell_type": "code",
   "execution_count": 15,
   "metadata": {
    "collapsed": false
   },
   "outputs": [
    {
     "data": {
      "text/plain": [
       "started_on                        0\n",
       "created_date                      0\n",
       "updated_date                      0\n",
       "completed_on                      0\n",
       "distance_travelled                2\n",
       "end_location_lat                  0\n",
       "end_location_long                 0\n",
       "driver_rating                     0\n",
       "rider_rating                      0\n",
       "active_driver_id                  0\n",
       "charity_id                        0\n",
       "requested_car_category            0\n",
       "free_credit_used                  0\n",
       "surge_factor                      0\n",
       "start_location_long               0\n",
       "start_location_lat                0\n",
       "rider_id                          0\n",
       "round_up_amount                   0\n",
       "promocode_redemption_id           0\n",
       "driver_reached_on              1301\n",
       "base_fare                         0\n",
       "total_fare                        2\n",
       "rate_per_mile                     0\n",
       "rate_per_minute                   0\n",
       "time_fare                         2\n",
       "driver_accepted_on               66\n",
       "esimtated_time_arrive         78537\n",
       "tipped_on                         0\n",
       "tip                               0\n",
       "driving_time_to_rider         21823\n",
       "dispatch_location_lat             0\n",
       "dispatch_location_long            0\n",
       "driving_distance_to_rider    307358\n",
       "dispatched_on                     0\n",
       "status                            0\n",
       "driver_id                         0\n",
       "car_id                            0\n",
       "color                             0\n",
       "make                              0\n",
       "model                             0\n",
       "year                              0\n",
       "car_categories_bitmask            0\n",
       "rating                            0\n",
       "dtype: int64"
      ]
     },
     "execution_count": 15,
     "metadata": {},
     "output_type": "execute_result"
    }
   ],
   "source": [
    "austin.isnull().sum()"
   ]
  },
  {
   "cell_type": "markdown",
   "metadata": {},
   "source": [
    "## Finding row indices where rides weren't completed"
   ]
  },
  {
   "cell_type": "code",
   "execution_count": 16,
   "metadata": {
    "collapsed": false
   },
   "outputs": [
    {
     "data": {
      "text/plain": [
       "[258, 3572]"
      ]
     },
     "execution_count": 16,
     "metadata": {},
     "output_type": "execute_result"
    }
   ],
   "source": [
    "austin[austin['total_fare'].isnull()].index.tolist()"
   ]
  },
  {
   "cell_type": "code",
   "execution_count": 17,
   "metadata": {
    "collapsed": false
   },
   "outputs": [
    {
     "data": {
      "text/plain": [
       "[258, 3572]"
      ]
     },
     "execution_count": 17,
     "metadata": {},
     "output_type": "execute_result"
    }
   ],
   "source": [
    "austin[austin['distance_travelled'].isnull()].index.tolist()"
   ]
  },
  {
   "cell_type": "code",
   "execution_count": 18,
   "metadata": {
    "collapsed": true
   },
   "outputs": [],
   "source": [
    "austin.drop(258, inplace=True)"
   ]
  },
  {
   "cell_type": "code",
   "execution_count": 19,
   "metadata": {
    "collapsed": false
   },
   "outputs": [],
   "source": [
    "austin.drop(3572, inplace=True)"
   ]
  },
  {
   "cell_type": "markdown",
   "metadata": {},
   "source": [
    "## Adding Miles column"
   ]
  },
  {
   "cell_type": "code",
   "execution_count": 20,
   "metadata": {
    "collapsed": true
   },
   "outputs": [],
   "source": [
    "austin['miles']= austin['distance_travelled']*.000621371"
   ]
  },
  {
   "cell_type": "code",
   "execution_count": 21,
   "metadata": {
    "collapsed": false
   },
   "outputs": [
    {
     "data": {
      "text/html": [
       "<div>\n",
       "<table border=\"1\" class=\"dataframe\">\n",
       "  <thead>\n",
       "    <tr style=\"text-align: right;\">\n",
       "      <th></th>\n",
       "      <th>distance_travelled</th>\n",
       "      <th>miles</th>\n",
       "      <th>driver_rating</th>\n",
       "      <th>rider_rating</th>\n",
       "      <th>total_fare</th>\n",
       "      <th>base_fare</th>\n",
       "      <th>tip</th>\n",
       "    </tr>\n",
       "  </thead>\n",
       "  <tbody>\n",
       "    <tr>\n",
       "      <th>count</th>\n",
       "      <td>1.494123e+06</td>\n",
       "      <td>1.494123e+06</td>\n",
       "      <td>1.494123e+06</td>\n",
       "      <td>1.494123e+06</td>\n",
       "      <td>1.494123e+06</td>\n",
       "      <td>1.494123e+06</td>\n",
       "      <td>1.494123e+06</td>\n",
       "    </tr>\n",
       "    <tr>\n",
       "      <th>mean</th>\n",
       "      <td>8.768291e+03</td>\n",
       "      <td>5.448362e+00</td>\n",
       "      <td>4.373235e+00</td>\n",
       "      <td>4.801277e+00</td>\n",
       "      <td>1.398658e+01</td>\n",
       "      <td>1.577669e+00</td>\n",
       "      <td>8.103017e-01</td>\n",
       "    </tr>\n",
       "    <tr>\n",
       "      <th>std</th>\n",
       "      <td>4.686613e+04</td>\n",
       "      <td>2.912125e+01</td>\n",
       "      <td>1.529502e+00</td>\n",
       "      <td>8.372899e-01</td>\n",
       "      <td>1.164317e+01</td>\n",
       "      <td>3.679143e-01</td>\n",
       "      <td>2.944751e+00</td>\n",
       "    </tr>\n",
       "    <tr>\n",
       "      <th>min</th>\n",
       "      <td>0.000000e+00</td>\n",
       "      <td>0.000000e+00</td>\n",
       "      <td>0.000000e+00</td>\n",
       "      <td>0.000000e+00</td>\n",
       "      <td>0.000000e+00</td>\n",
       "      <td>0.000000e+00</td>\n",
       "      <td>0.000000e+00</td>\n",
       "    </tr>\n",
       "    <tr>\n",
       "      <th>25%</th>\n",
       "      <td>3.192000e+03</td>\n",
       "      <td>1.983416e+00</td>\n",
       "      <td>5.000000e+00</td>\n",
       "      <td>5.000000e+00</td>\n",
       "      <td>7.950000e+00</td>\n",
       "      <td>1.500000e+00</td>\n",
       "      <td>0.000000e+00</td>\n",
       "    </tr>\n",
       "    <tr>\n",
       "      <th>50%</th>\n",
       "      <td>5.843000e+03</td>\n",
       "      <td>3.630671e+00</td>\n",
       "      <td>5.000000e+00</td>\n",
       "      <td>5.000000e+00</td>\n",
       "      <td>1.114000e+01</td>\n",
       "      <td>1.500000e+00</td>\n",
       "      <td>0.000000e+00</td>\n",
       "    </tr>\n",
       "    <tr>\n",
       "      <th>75%</th>\n",
       "      <td>1.186200e+04</td>\n",
       "      <td>7.370703e+00</td>\n",
       "      <td>5.000000e+00</td>\n",
       "      <td>5.000000e+00</td>\n",
       "      <td>1.700000e+01</td>\n",
       "      <td>1.500000e+00</td>\n",
       "      <td>1.000000e+00</td>\n",
       "    </tr>\n",
       "    <tr>\n",
       "      <th>max</th>\n",
       "      <td>4.302576e+07</td>\n",
       "      <td>2.673496e+04</td>\n",
       "      <td>5.000000e+00</td>\n",
       "      <td>5.000000e+00</td>\n",
       "      <td>2.732650e+03</td>\n",
       "      <td>5.000000e+00</td>\n",
       "      <td>3.000000e+02</td>\n",
       "    </tr>\n",
       "  </tbody>\n",
       "</table>\n",
       "</div>"
      ],
      "text/plain": [
       "       distance_travelled         miles  driver_rating  rider_rating  \\\n",
       "count        1.494123e+06  1.494123e+06   1.494123e+06  1.494123e+06   \n",
       "mean         8.768291e+03  5.448362e+00   4.373235e+00  4.801277e+00   \n",
       "std          4.686613e+04  2.912125e+01   1.529502e+00  8.372899e-01   \n",
       "min          0.000000e+00  0.000000e+00   0.000000e+00  0.000000e+00   \n",
       "25%          3.192000e+03  1.983416e+00   5.000000e+00  5.000000e+00   \n",
       "50%          5.843000e+03  3.630671e+00   5.000000e+00  5.000000e+00   \n",
       "75%          1.186200e+04  7.370703e+00   5.000000e+00  5.000000e+00   \n",
       "max          4.302576e+07  2.673496e+04   5.000000e+00  5.000000e+00   \n",
       "\n",
       "         total_fare     base_fare           tip  \n",
       "count  1.494123e+06  1.494123e+06  1.494123e+06  \n",
       "mean   1.398658e+01  1.577669e+00  8.103017e-01  \n",
       "std    1.164317e+01  3.679143e-01  2.944751e+00  \n",
       "min    0.000000e+00  0.000000e+00  0.000000e+00  \n",
       "25%    7.950000e+00  1.500000e+00  0.000000e+00  \n",
       "50%    1.114000e+01  1.500000e+00  0.000000e+00  \n",
       "75%    1.700000e+01  1.500000e+00  1.000000e+00  \n",
       "max    2.732650e+03  5.000000e+00  3.000000e+02  "
      ]
     },
     "execution_count": 21,
     "metadata": {},
     "output_type": "execute_result"
    }
   ],
   "source": [
    "austin[['distance_travelled', 'miles', 'driver_rating', 'rider_rating', 'total_fare', 'base_fare', 'tip']].describe()"
   ]
  },
  {
   "cell_type": "markdown",
   "metadata": {},
   "source": [
    "# Finding errors in Data"
   ]
  },
  {
   "cell_type": "code",
   "execution_count": 22,
   "metadata": {
    "collapsed": false
   },
   "outputs": [
    {
     "data": {
      "text/plain": [
       "started_on                             2016-09-24 13:23:06-05:00\n",
       "created_date                           2016-09-24 13:05:34-05:00\n",
       "updated_date                           2016-09-25 13:46:38-05:00\n",
       "completed_on                           2016-09-24 13:46:34-05:00\n",
       "distance_travelled                                   4.30258e+07\n",
       "end_location_lat                                          30.282\n",
       "end_location_long                                        -97.736\n",
       "driver_rating                                                  0\n",
       "rider_rating                                                   5\n",
       "active_driver_id                                           54519\n",
       "charity_id                                                     0\n",
       "requested_car_category                                b'REGULAR'\n",
       "free_credit_used                                               0\n",
       "surge_factor                                                   1\n",
       "start_location_long                                      -97.909\n",
       "start_location_lat                                        30.231\n",
       "rider_id                                                   22389\n",
       "round_up_amount                                                0\n",
       "promocode_redemption_id                                        0\n",
       "driver_reached_on                      2016-09-24 13:23:03-05:00\n",
       "base_fare                                                    1.5\n",
       "total_fare                                                 20.36\n",
       "rate_per_mile                                               0.99\n",
       "rate_per_minute                                             0.25\n",
       "time_fare                                                   5.87\n",
       "driver_accepted_on                     2016-09-24 08:05:37-05:00\n",
       "esimtated_time_arrive        1969-12-31 18:00:00.000000490-06:00\n",
       "tipped_on                                                      0\n",
       "tip                                                            0\n",
       "driving_time_to_rider                                        490\n",
       "dispatch_location_lat                                    -97.736\n",
       "dispatch_location_long                                   -97.736\n",
       "driving_distance_to_rider                                    NaN\n",
       "dispatched_on                                2016-09-24 18:05:35\n",
       "status                                             b'DISPATCHED'\n",
       "driver_id                                                   1007\n",
       "car_id                                                      1007\n",
       "color                                                    b'Gray'\n",
       "make                                               b'Mitsubishi'\n",
       "model                                               b'Outlander'\n",
       "year                                                     b'2016'\n",
       "car_categories_bitmask                                         3\n",
       "rating                                                      4.82\n",
       "miles                                                      26735\n",
       "Name: 124804, dtype: object"
      ]
     },
     "execution_count": 22,
     "metadata": {},
     "output_type": "execute_result"
    }
   ],
   "source": [
    "# max miles: 26,735 miles, let's investigate\n",
    "austin.loc[austin['miles'].argmax()]\n",
    "# Data error/discrepancy : total fare of $20.36 for traveling 26.7K miles "
   ]
  },
  {
   "cell_type": "markdown",
   "metadata": {},
   "source": [
    "## Finding Data Discrepancy :  miles > total_fare"
   ]
  },
  {
   "cell_type": "code",
   "execution_count": 23,
   "metadata": {
    "collapsed": false
   },
   "outputs": [
    {
     "data": {
      "text/plain": [
       "13"
      ]
     },
     "execution_count": 23,
     "metadata": {},
     "output_type": "execute_result"
    }
   ],
   "source": [
    "sum((austin['miles']>austin['total_fare']) & (austin['miles'] > 100) & (austin['total_fare']!=0))\n",
    "# 13 cases in the data where miles > total_fare"
   ]
  },
  {
   "cell_type": "code",
   "execution_count": 24,
   "metadata": {
    "collapsed": false
   },
   "outputs": [
    {
     "data": {
      "text/html": [
       "<div>\n",
       "<table border=\"1\" class=\"dataframe\">\n",
       "  <thead>\n",
       "    <tr style=\"text-align: right;\">\n",
       "      <th></th>\n",
       "      <th>started_on</th>\n",
       "      <th>completed_on</th>\n",
       "      <th>distance_travelled</th>\n",
       "      <th>miles</th>\n",
       "      <th>total_fare</th>\n",
       "      <th>tip</th>\n",
       "      <th>rate_per_mile</th>\n",
       "    </tr>\n",
       "    <tr>\n",
       "      <th>RIDE_ID</th>\n",
       "      <th></th>\n",
       "      <th></th>\n",
       "      <th></th>\n",
       "      <th></th>\n",
       "      <th></th>\n",
       "      <th></th>\n",
       "      <th></th>\n",
       "    </tr>\n",
       "  </thead>\n",
       "  <tbody>\n",
       "    <tr>\n",
       "      <th>82080</th>\n",
       "      <td>2016-09-10 17:31:32-05:00</td>\n",
       "      <td>2016-09-10 17:37:41-05:00</td>\n",
       "      <td>4024555.0</td>\n",
       "      <td>2500.741765</td>\n",
       "      <td>1014.59</td>\n",
       "      <td>0.0</td>\n",
       "      <td>1.50</td>\n",
       "    </tr>\n",
       "    <tr>\n",
       "      <th>82861</th>\n",
       "      <td>2016-09-10 20:07:20-05:00</td>\n",
       "      <td>2016-09-10 20:32:33-05:00</td>\n",
       "      <td>2066250.0</td>\n",
       "      <td>1283.907829</td>\n",
       "      <td>1020.00</td>\n",
       "      <td>0.0</td>\n",
       "      <td>1.50</td>\n",
       "    </tr>\n",
       "    <tr>\n",
       "      <th>83643</th>\n",
       "      <td>2016-09-10 22:27:56-05:00</td>\n",
       "      <td>2016-09-11 00:05:48-05:00</td>\n",
       "      <td>18080568.0</td>\n",
       "      <td>11234.740619</td>\n",
       "      <td>1037.74</td>\n",
       "      <td>0.0</td>\n",
       "      <td>1.50</td>\n",
       "    </tr>\n",
       "    <tr>\n",
       "      <th>85312</th>\n",
       "      <td>2016-09-11 13:00:19-05:00</td>\n",
       "      <td>2016-09-11 13:14:50-05:00</td>\n",
       "      <td>2394352.0</td>\n",
       "      <td>1487.780897</td>\n",
       "      <td>1016.70</td>\n",
       "      <td>0.0</td>\n",
       "      <td>1.50</td>\n",
       "    </tr>\n",
       "    <tr>\n",
       "      <th>89516</th>\n",
       "      <td>2016-09-14 10:08:48-05:00</td>\n",
       "      <td>2016-09-14 10:09:00-05:00</td>\n",
       "      <td>1962274.0</td>\n",
       "      <td>1219.300158</td>\n",
       "      <td>1014.00</td>\n",
       "      <td>0.0</td>\n",
       "      <td>1.50</td>\n",
       "    </tr>\n",
       "    <tr>\n",
       "      <th>92945</th>\n",
       "      <td>2016-09-15 21:39:14-05:00</td>\n",
       "      <td>2016-09-15 21:54:57-05:00</td>\n",
       "      <td>3066024.0</td>\n",
       "      <td>1905.138399</td>\n",
       "      <td>1017.00</td>\n",
       "      <td>0.0</td>\n",
       "      <td>0.99</td>\n",
       "    </tr>\n",
       "    <tr>\n",
       "      <th>112132</th>\n",
       "      <td>2016-09-21 08:52:07-05:00</td>\n",
       "      <td>2016-09-21 08:56:29-05:00</td>\n",
       "      <td>18024617.0</td>\n",
       "      <td>11199.974290</td>\n",
       "      <td>1014.13</td>\n",
       "      <td>0.0</td>\n",
       "      <td>0.99</td>\n",
       "    </tr>\n",
       "    <tr>\n",
       "      <th>120617</th>\n",
       "      <td>2016-09-23 19:37:16-05:00</td>\n",
       "      <td>2016-09-23 19:56:54-05:00</td>\n",
       "      <td>21565764.0</td>\n",
       "      <td>13400.340342</td>\n",
       "      <td>1017.99</td>\n",
       "      <td>1.0</td>\n",
       "      <td>0.99</td>\n",
       "    </tr>\n",
       "    <tr>\n",
       "      <th>124804</th>\n",
       "      <td>2016-09-24 13:23:06-05:00</td>\n",
       "      <td>2016-09-24 13:46:34-05:00</td>\n",
       "      <td>43025760.0</td>\n",
       "      <td>26734.959517</td>\n",
       "      <td>20.36</td>\n",
       "      <td>0.0</td>\n",
       "      <td>0.99</td>\n",
       "    </tr>\n",
       "    <tr>\n",
       "      <th>778699</th>\n",
       "      <td>2017-01-20 22:45:29-06:00</td>\n",
       "      <td>2017-01-20 23:04:24-06:00</td>\n",
       "      <td>10755640.0</td>\n",
       "      <td>6683.242782</td>\n",
       "      <td>1018.00</td>\n",
       "      <td>0.0</td>\n",
       "      <td>0.99</td>\n",
       "    </tr>\n",
       "    <tr>\n",
       "      <th>1441999</th>\n",
       "      <td>2017-04-07 15:14:18-05:00</td>\n",
       "      <td>2017-04-07 15:36:21-05:00</td>\n",
       "      <td>2867498.0</td>\n",
       "      <td>1781.780100</td>\n",
       "      <td>42.70</td>\n",
       "      <td>0.0</td>\n",
       "      <td>2.60</td>\n",
       "    </tr>\n",
       "    <tr>\n",
       "      <th>1477559</th>\n",
       "      <td>2017-04-10 18:44:31-05:00</td>\n",
       "      <td>2017-04-10 19:09:42-05:00</td>\n",
       "      <td>3541760.0</td>\n",
       "      <td>2200.746953</td>\n",
       "      <td>1019.90</td>\n",
       "      <td>1.0</td>\n",
       "      <td>0.99</td>\n",
       "    </tr>\n",
       "    <tr>\n",
       "      <th>1481509</th>\n",
       "      <td>2017-04-11 15:02:45-05:00</td>\n",
       "      <td>2017-04-11 15:29:23-05:00</td>\n",
       "      <td>5493214.0</td>\n",
       "      <td>3413.323876</td>\n",
       "      <td>1021.27</td>\n",
       "      <td>0.0</td>\n",
       "      <td>0.99</td>\n",
       "    </tr>\n",
       "  </tbody>\n",
       "</table>\n",
       "</div>"
      ],
      "text/plain": [
       "                        started_on               completed_on  \\\n",
       "RIDE_ID                                                         \n",
       "82080    2016-09-10 17:31:32-05:00  2016-09-10 17:37:41-05:00   \n",
       "82861    2016-09-10 20:07:20-05:00  2016-09-10 20:32:33-05:00   \n",
       "83643    2016-09-10 22:27:56-05:00  2016-09-11 00:05:48-05:00   \n",
       "85312    2016-09-11 13:00:19-05:00  2016-09-11 13:14:50-05:00   \n",
       "89516    2016-09-14 10:08:48-05:00  2016-09-14 10:09:00-05:00   \n",
       "92945    2016-09-15 21:39:14-05:00  2016-09-15 21:54:57-05:00   \n",
       "112132   2016-09-21 08:52:07-05:00  2016-09-21 08:56:29-05:00   \n",
       "120617   2016-09-23 19:37:16-05:00  2016-09-23 19:56:54-05:00   \n",
       "124804   2016-09-24 13:23:06-05:00  2016-09-24 13:46:34-05:00   \n",
       "778699   2017-01-20 22:45:29-06:00  2017-01-20 23:04:24-06:00   \n",
       "1441999  2017-04-07 15:14:18-05:00  2017-04-07 15:36:21-05:00   \n",
       "1477559  2017-04-10 18:44:31-05:00  2017-04-10 19:09:42-05:00   \n",
       "1481509  2017-04-11 15:02:45-05:00  2017-04-11 15:29:23-05:00   \n",
       "\n",
       "         distance_travelled         miles  total_fare  tip  rate_per_mile  \n",
       "RIDE_ID                                                                    \n",
       "82080             4024555.0   2500.741765     1014.59  0.0           1.50  \n",
       "82861             2066250.0   1283.907829     1020.00  0.0           1.50  \n",
       "83643            18080568.0  11234.740619     1037.74  0.0           1.50  \n",
       "85312             2394352.0   1487.780897     1016.70  0.0           1.50  \n",
       "89516             1962274.0   1219.300158     1014.00  0.0           1.50  \n",
       "92945             3066024.0   1905.138399     1017.00  0.0           0.99  \n",
       "112132           18024617.0  11199.974290     1014.13  0.0           0.99  \n",
       "120617           21565764.0  13400.340342     1017.99  1.0           0.99  \n",
       "124804           43025760.0  26734.959517       20.36  0.0           0.99  \n",
       "778699           10755640.0   6683.242782     1018.00  0.0           0.99  \n",
       "1441999           2867498.0   1781.780100       42.70  0.0           2.60  \n",
       "1477559           3541760.0   2200.746953     1019.90  1.0           0.99  \n",
       "1481509           5493214.0   3413.323876     1021.27  0.0           0.99  "
      ]
     },
     "execution_count": 24,
     "metadata": {},
     "output_type": "execute_result"
    }
   ],
   "source": [
    "discrp = austin[ (austin['miles'] > austin['total_fare']) & (austin['miles'] > 100) & (austin['total_fare']!=0) ]\n",
    "discrp[['started_on', 'completed_on', 'distance_travelled', 'miles', 'total_fare', 'tip', 'rate_per_mile']]"
   ]
  },
  {
   "cell_type": "code",
   "execution_count": 25,
   "metadata": {
    "collapsed": false
   },
   "outputs": [
    {
     "name": "stderr",
     "output_type": "stream",
     "text": [
      "/Users/esther/anaconda/lib/python2.7/site-packages/ipykernel/__main__.py:1: SettingWithCopyWarning: \n",
      "A value is trying to be set on a copy of a slice from a DataFrame.\n",
      "Try using .loc[row_indexer,col_indexer] = value instead\n",
      "\n",
      "See the caveats in the documentation: http://pandas.pydata.org/pandas-docs/stable/indexing.html#indexing-view-versus-copy\n",
      "  if __name__ == '__main__':\n",
      "/Users/esther/anaconda/lib/python2.7/site-packages/ipykernel/__main__.py:2: SettingWithCopyWarning: \n",
      "A value is trying to be set on a copy of a slice from a DataFrame.\n",
      "Try using .loc[row_indexer,col_indexer] = value instead\n",
      "\n",
      "See the caveats in the documentation: http://pandas.pydata.org/pandas-docs/stable/indexing.html#indexing-view-versus-copy\n",
      "  from ipykernel import kernelapp as app\n"
     ]
    }
   ],
   "source": [
    "discrp['started_on'] = pd.to_datetime(discrp['started_on'], format= '%Y-%m-%d %H:%M:%S')\n",
    "discrp['completed_on'] = pd.to_datetime(discrp['completed_on'], format= '%Y-%m-%d %H:%M:%S')"
   ]
  },
  {
   "cell_type": "code",
   "execution_count": 26,
   "metadata": {
    "collapsed": false
   },
   "outputs": [
    {
     "name": "stderr",
     "output_type": "stream",
     "text": [
      "/Users/esther/anaconda/lib/python2.7/site-packages/ipykernel/__main__.py:1: SettingWithCopyWarning: \n",
      "A value is trying to be set on a copy of a slice from a DataFrame.\n",
      "Try using .loc[row_indexer,col_indexer] = value instead\n",
      "\n",
      "See the caveats in the documentation: http://pandas.pydata.org/pandas-docs/stable/indexing.html#indexing-view-versus-copy\n",
      "  if __name__ == '__main__':\n"
     ]
    },
    {
     "data": {
      "text/html": [
       "<div>\n",
       "<table border=\"1\" class=\"dataframe\">\n",
       "  <thead>\n",
       "    <tr style=\"text-align: right;\">\n",
       "      <th></th>\n",
       "      <th>miles</th>\n",
       "      <th>total_fare</th>\n",
       "      <th>ride_total_time</th>\n",
       "    </tr>\n",
       "    <tr>\n",
       "      <th>RIDE_ID</th>\n",
       "      <th></th>\n",
       "      <th></th>\n",
       "      <th></th>\n",
       "    </tr>\n",
       "  </thead>\n",
       "  <tbody>\n",
       "    <tr>\n",
       "      <th>82080</th>\n",
       "      <td>2500.741765</td>\n",
       "      <td>1014.59</td>\n",
       "      <td>00:06:09</td>\n",
       "    </tr>\n",
       "    <tr>\n",
       "      <th>82861</th>\n",
       "      <td>1283.907829</td>\n",
       "      <td>1020.00</td>\n",
       "      <td>00:25:13</td>\n",
       "    </tr>\n",
       "    <tr>\n",
       "      <th>83643</th>\n",
       "      <td>11234.740619</td>\n",
       "      <td>1037.74</td>\n",
       "      <td>01:37:52</td>\n",
       "    </tr>\n",
       "    <tr>\n",
       "      <th>85312</th>\n",
       "      <td>1487.780897</td>\n",
       "      <td>1016.70</td>\n",
       "      <td>00:14:31</td>\n",
       "    </tr>\n",
       "    <tr>\n",
       "      <th>89516</th>\n",
       "      <td>1219.300158</td>\n",
       "      <td>1014.00</td>\n",
       "      <td>00:00:12</td>\n",
       "    </tr>\n",
       "    <tr>\n",
       "      <th>92945</th>\n",
       "      <td>1905.138399</td>\n",
       "      <td>1017.00</td>\n",
       "      <td>00:15:43</td>\n",
       "    </tr>\n",
       "    <tr>\n",
       "      <th>112132</th>\n",
       "      <td>11199.974290</td>\n",
       "      <td>1014.13</td>\n",
       "      <td>00:04:22</td>\n",
       "    </tr>\n",
       "    <tr>\n",
       "      <th>120617</th>\n",
       "      <td>13400.340342</td>\n",
       "      <td>1017.99</td>\n",
       "      <td>00:19:38</td>\n",
       "    </tr>\n",
       "    <tr>\n",
       "      <th>124804</th>\n",
       "      <td>26734.959517</td>\n",
       "      <td>20.36</td>\n",
       "      <td>00:23:28</td>\n",
       "    </tr>\n",
       "    <tr>\n",
       "      <th>778699</th>\n",
       "      <td>6683.242782</td>\n",
       "      <td>1018.00</td>\n",
       "      <td>00:18:55</td>\n",
       "    </tr>\n",
       "    <tr>\n",
       "      <th>1441999</th>\n",
       "      <td>1781.780100</td>\n",
       "      <td>42.70</td>\n",
       "      <td>00:22:03</td>\n",
       "    </tr>\n",
       "    <tr>\n",
       "      <th>1477559</th>\n",
       "      <td>2200.746953</td>\n",
       "      <td>1019.90</td>\n",
       "      <td>00:25:11</td>\n",
       "    </tr>\n",
       "    <tr>\n",
       "      <th>1481509</th>\n",
       "      <td>3413.323876</td>\n",
       "      <td>1021.27</td>\n",
       "      <td>00:26:38</td>\n",
       "    </tr>\n",
       "  </tbody>\n",
       "</table>\n",
       "</div>"
      ],
      "text/plain": [
       "                miles  total_fare  ride_total_time\n",
       "RIDE_ID                                           \n",
       "82080     2500.741765     1014.59         00:06:09\n",
       "82861     1283.907829     1020.00         00:25:13\n",
       "83643    11234.740619     1037.74         01:37:52\n",
       "85312     1487.780897     1016.70         00:14:31\n",
       "89516     1219.300158     1014.00         00:00:12\n",
       "92945     1905.138399     1017.00         00:15:43\n",
       "112132   11199.974290     1014.13         00:04:22\n",
       "120617   13400.340342     1017.99         00:19:38\n",
       "124804   26734.959517       20.36         00:23:28\n",
       "778699    6683.242782     1018.00         00:18:55\n",
       "1441999   1781.780100       42.70         00:22:03\n",
       "1477559   2200.746953     1019.90         00:25:11\n",
       "1481509   3413.323876     1021.27         00:26:38"
      ]
     },
     "execution_count": 26,
     "metadata": {},
     "output_type": "execute_result"
    }
   ],
   "source": [
    "discrp['ride_total_time'] = discrp['completed_on'] - discrp['started_on']\n",
    "discrp[['miles', 'total_fare', 'ride_total_time']]\n",
    "# the miles travelled are escalated, and the ride_total_time are significantly low compared to the miles travelled"
   ]
  },
  {
   "cell_type": "code",
   "execution_count": 27,
   "metadata": {
    "collapsed": false
   },
   "outputs": [],
   "source": [
    "austin = austin.drop(discrp.index)"
   ]
  },
  {
   "cell_type": "code",
   "execution_count": 28,
   "metadata": {
    "collapsed": false
   },
   "outputs": [
    {
     "data": {
      "text/plain": [
       "(1494110, 44)"
      ]
     },
     "execution_count": 28,
     "metadata": {},
     "output_type": "execute_result"
    }
   ],
   "source": [
    "austin.shape\n",
    "# so far, I dropped 15 rows "
   ]
  },
  {
   "cell_type": "code",
   "execution_count": 29,
   "metadata": {
    "collapsed": false
   },
   "outputs": [
    {
     "data": {
      "text/plain": [
       "11"
      ]
     },
     "execution_count": 29,
     "metadata": {},
     "output_type": "execute_result"
    }
   ],
   "source": [
    "sum(austin['distance_travelled']==0)\n",
    "# dropping rows with 0 distance travelled"
   ]
  },
  {
   "cell_type": "code",
   "execution_count": 30,
   "metadata": {
    "collapsed": false
   },
   "outputs": [
    {
     "data": {
      "text/plain": [
       "(1494099, 44)"
      ]
     },
     "execution_count": 30,
     "metadata": {},
     "output_type": "execute_result"
    }
   ],
   "source": [
    "austin= austin[austin['distance_travelled']>0]\n",
    "austin.shape"
   ]
  },
  {
   "cell_type": "markdown",
   "metadata": {},
   "source": [
    "## Stats on RideAustin"
   ]
  },
  {
   "cell_type": "code",
   "execution_count": 31,
   "metadata": {
    "collapsed": false
   },
   "outputs": [
    {
     "data": {
      "text/html": [
       "<div>\n",
       "<table border=\"1\" class=\"dataframe\">\n",
       "  <thead>\n",
       "    <tr style=\"text-align: right;\">\n",
       "      <th></th>\n",
       "      <th>distance_travelled</th>\n",
       "      <th>miles</th>\n",
       "      <th>driver_rating</th>\n",
       "      <th>rider_rating</th>\n",
       "      <th>total_fare</th>\n",
       "      <th>base_fare</th>\n",
       "      <th>tip</th>\n",
       "    </tr>\n",
       "  </thead>\n",
       "  <tbody>\n",
       "    <tr>\n",
       "      <th>count</th>\n",
       "      <td>1.494099e+06</td>\n",
       "      <td>1.494099e+06</td>\n",
       "      <td>1.494099e+06</td>\n",
       "      <td>1.494099e+06</td>\n",
       "      <td>1.494099e+06</td>\n",
       "      <td>1.494099e+06</td>\n",
       "      <td>1.494099e+06</td>\n",
       "    </tr>\n",
       "    <tr>\n",
       "      <th>mean</th>\n",
       "      <td>8.676826e+03</td>\n",
       "      <td>5.391528e+00</td>\n",
       "      <td>4.373238e+00</td>\n",
       "      <td>4.801277e+00</td>\n",
       "      <td>1.397922e+01</td>\n",
       "      <td>1.577669e+00</td>\n",
       "      <td>8.102906e-01</td>\n",
       "    </tr>\n",
       "    <tr>\n",
       "      <th>std</th>\n",
       "      <td>8.578737e+03</td>\n",
       "      <td>5.330578e+00</td>\n",
       "      <td>1.529497e+00</td>\n",
       "      <td>8.372870e-01</td>\n",
       "      <td>1.131922e+01</td>\n",
       "      <td>3.679153e-01</td>\n",
       "      <td>2.944704e+00</td>\n",
       "    </tr>\n",
       "    <tr>\n",
       "      <th>min</th>\n",
       "      <td>1.000000e+00</td>\n",
       "      <td>6.213710e-04</td>\n",
       "      <td>0.000000e+00</td>\n",
       "      <td>0.000000e+00</td>\n",
       "      <td>0.000000e+00</td>\n",
       "      <td>0.000000e+00</td>\n",
       "      <td>0.000000e+00</td>\n",
       "    </tr>\n",
       "    <tr>\n",
       "      <th>25%</th>\n",
       "      <td>3.192000e+03</td>\n",
       "      <td>1.983416e+00</td>\n",
       "      <td>5.000000e+00</td>\n",
       "      <td>5.000000e+00</td>\n",
       "      <td>7.950000e+00</td>\n",
       "      <td>1.500000e+00</td>\n",
       "      <td>0.000000e+00</td>\n",
       "    </tr>\n",
       "    <tr>\n",
       "      <th>50%</th>\n",
       "      <td>5.843000e+03</td>\n",
       "      <td>3.630671e+00</td>\n",
       "      <td>5.000000e+00</td>\n",
       "      <td>5.000000e+00</td>\n",
       "      <td>1.114000e+01</td>\n",
       "      <td>1.500000e+00</td>\n",
       "      <td>0.000000e+00</td>\n",
       "    </tr>\n",
       "    <tr>\n",
       "      <th>75%</th>\n",
       "      <td>1.186200e+04</td>\n",
       "      <td>7.370703e+00</td>\n",
       "      <td>5.000000e+00</td>\n",
       "      <td>5.000000e+00</td>\n",
       "      <td>1.700000e+01</td>\n",
       "      <td>1.500000e+00</td>\n",
       "      <td>1.000000e+00</td>\n",
       "    </tr>\n",
       "    <tr>\n",
       "      <th>max</th>\n",
       "      <td>1.430523e+06</td>\n",
       "      <td>8.888855e+02</td>\n",
       "      <td>5.000000e+00</td>\n",
       "      <td>5.000000e+00</td>\n",
       "      <td>2.732650e+03</td>\n",
       "      <td>5.000000e+00</td>\n",
       "      <td>3.000000e+02</td>\n",
       "    </tr>\n",
       "  </tbody>\n",
       "</table>\n",
       "</div>"
      ],
      "text/plain": [
       "       distance_travelled         miles  driver_rating  rider_rating  \\\n",
       "count        1.494099e+06  1.494099e+06   1.494099e+06  1.494099e+06   \n",
       "mean         8.676826e+03  5.391528e+00   4.373238e+00  4.801277e+00   \n",
       "std          8.578737e+03  5.330578e+00   1.529497e+00  8.372870e-01   \n",
       "min          1.000000e+00  6.213710e-04   0.000000e+00  0.000000e+00   \n",
       "25%          3.192000e+03  1.983416e+00   5.000000e+00  5.000000e+00   \n",
       "50%          5.843000e+03  3.630671e+00   5.000000e+00  5.000000e+00   \n",
       "75%          1.186200e+04  7.370703e+00   5.000000e+00  5.000000e+00   \n",
       "max          1.430523e+06  8.888855e+02   5.000000e+00  5.000000e+00   \n",
       "\n",
       "         total_fare     base_fare           tip  \n",
       "count  1.494099e+06  1.494099e+06  1.494099e+06  \n",
       "mean   1.397922e+01  1.577669e+00  8.102906e-01  \n",
       "std    1.131922e+01  3.679153e-01  2.944704e+00  \n",
       "min    0.000000e+00  0.000000e+00  0.000000e+00  \n",
       "25%    7.950000e+00  1.500000e+00  0.000000e+00  \n",
       "50%    1.114000e+01  1.500000e+00  0.000000e+00  \n",
       "75%    1.700000e+01  1.500000e+00  1.000000e+00  \n",
       "max    2.732650e+03  5.000000e+00  3.000000e+02  "
      ]
     },
     "execution_count": 31,
     "metadata": {},
     "output_type": "execute_result"
    }
   ],
   "source": [
    "austin[['distance_travelled', 'miles', 'driver_rating', 'rider_rating', 'total_fare', 'base_fare', 'tip']].describe()"
   ]
  },
  {
   "cell_type": "code",
   "execution_count": 32,
   "metadata": {
    "collapsed": false
   },
   "outputs": [
    {
     "name": "stdout",
     "output_type": "stream",
     "text": [
      "# of unique riders: 260952\n",
      "# of unique drivers: 687505\n"
     ]
    }
   ],
   "source": [
    "print('# of unique riders: ' + str(len(set(austin['rider_id']))) )\n",
    "print('# of unique drivers: ') + str(len(set(austin['active_driver_id'])))"
   ]
  },
  {
   "cell_type": "markdown",
   "metadata": {},
   "source": [
    "# Ratings"
   ]
  },
  {
   "cell_type": "code",
   "execution_count": 33,
   "metadata": {
    "collapsed": false
   },
   "outputs": [
    {
     "name": "stdout",
     "output_type": "stream",
     "text": [
      "0.0      25987\n",
      "1.0      17032\n",
      "2.0       7789\n",
      "3.0      19335\n",
      "4.0      36812\n",
      "5.0    1387144\n",
      "Name: rider_rating, dtype: int64\n",
      "0.0     138439\n",
      "0.5          1\n",
      "1.0      22813\n",
      "2.0       8205\n",
      "3.0      26970\n",
      "4.0      74433\n",
      "4.5         10\n",
      "5.0    1223228\n",
      "Name: driver_rating, dtype: int64\n"
     ]
    }
   ],
   "source": [
    "rider_rat = austin['rider_rating'].value_counts().sort_index()\n",
    "driver_rat = austin['driver_rating'].value_counts().sort_index()\n",
    "print(rider_rat)\n",
    "print(driver_rat)"
   ]
  },
  {
   "cell_type": "code",
   "execution_count": 34,
   "metadata": {
    "collapsed": false
   },
   "outputs": [
    {
     "name": "stdout",
     "output_type": "stream",
     "text": [
      "0.0     138439\n",
      "1.0      22814\n",
      "2.0       8205\n",
      "3.0      26970\n",
      "4.0      74433\n",
      "5.0    1223238\n",
      "Name: driver_rating, dtype: int64\n"
     ]
    }
   ],
   "source": [
    "# rounding the .5, 4.5 ratings for drivers\n",
    "austin['driver_rating'] = austin['driver_rating'].apply(lambda x: round(x))\n",
    "driver_rat = austin['driver_rating'].value_counts().sort_index()\n",
    "print(driver_rat)"
   ]
  },
  {
   "cell_type": "code",
   "execution_count": 37,
   "metadata": {
    "collapsed": false
   },
   "outputs": [
    {
     "data": {
      "text/plain": [
       "<matplotlib.text.Text at 0x118d1ead0>"
      ]
     },
     "execution_count": 37,
     "metadata": {},
     "output_type": "execute_result"
    },
    {
     "data": {
      "image/png": "[encoded data removed]",
      "text/plain": [
       "<matplotlib.figure.Figure at 0x1181f33d0>"
      ]
     },
     "metadata": {},
     "output_type": "display_data"
    }
   ],
   "source": [
    "% matplotlib inline\n",
    "fig, ax= plt.subplots(1,2)\n",
    "sns.set_style(\"darkgrid\")\n",
    "sns.set_context(\"notebook\")\n",
    "sns.barplot(rider_rat.index, rider_rat.values/1000, ax= ax[0], palette=\"BuPu\").set_title(\"Rider Ratings\")\n",
    "sns.barplot(driver_rat.index, driver_rat.values/1000, ax=ax[1], palette=\"BuPu\").set_title(\"Driver Ratings\")\n",
    "# Drivers are more likely to rate riders than riders are to rate drivers"
   ]
  },
  {
   "cell_type": "code",
   "execution_count": 40,
   "metadata": {
    "collapsed": false
   },
   "outputs": [
    {
     "data": {
      "text/plain": [
       "17336"
      ]
     },
     "execution_count": 40,
     "metadata": {},
     "output_type": "execute_result"
    }
   ],
   "source": [
    "# number of rides where riders were rated higher than drivers\n",
    "sum((austin['driver_rating']==1) & (austin['rider_rating']==5))"
   ]
  },
  {
   "cell_type": "code",
   "execution_count": 41,
   "metadata": {
    "collapsed": false
   },
   "outputs": [
    {
     "data": {
      "text/plain": [
       "10543"
      ]
     },
     "execution_count": 41,
     "metadata": {},
     "output_type": "execute_result"
    }
   ],
   "source": [
    "# number of rides where drivers were rated higher than riders\n",
    "sum((austin['driver_rating']==5) & (austin['rider_rating']==1))"
   ]
  },
  {
   "cell_type": "code",
   "execution_count": 42,
   "metadata": {
    "collapsed": false
   },
   "outputs": [
    {
     "data": {
      "text/plain": [
       "1152247"
      ]
     },
     "execution_count": 42,
     "metadata": {},
     "output_type": "execute_result"
    }
   ],
   "source": [
    "# number of rides where riders & drivers gave each other same ratings \n",
    "sum((austin['driver_rating']== austin['rider_rating']))"
   ]
  },
  {
   "cell_type": "markdown",
   "metadata": {},
   "source": [
    "## Rides per Weekday"
   ]
  },
  {
   "cell_type": "code",
   "execution_count": 44,
   "metadata": {
    "collapsed": false
   },
   "outputs": [],
   "source": [
    "import datetime\n",
    "austin['started_on'] = pd.to_datetime(austin['started_on'])\n",
    "dayOfWeek={0:'Mon', 1:'Tue', 2:'Wed', 3:'Thu', 4:'Fri', 5:'Sat', 6:'Sun'}\n",
    "austin['weekday'] = austin['started_on'].dt.dayofweek.map(dayOfWeek)"
   ]
  },
  {
   "cell_type": "code",
   "execution_count": 51,
   "metadata": {
    "collapsed": false
   },
   "outputs": [
    {
     "data": {
      "text/plain": [
       "Sun    342643\n",
       "Mon    150969\n",
       "Tue    124555\n",
       "Wed    138226\n",
       "Thu    158072\n",
       "Fri    228745\n",
       "Sat    350889\n",
       "Name: weekday, dtype: int64"
      ]
     },
     "execution_count": 51,
     "metadata": {},
     "output_type": "execute_result"
    }
   ],
   "source": [
    "weekday = austin['weekday'].value_counts()\n",
    "weekday= weekday.reindex(['Sun', 'Mon', 'Tue', 'Wed', 'Thu', 'Fri', 'Sat'])\n",
    "weekday"
   ]
  },
  {
   "cell_type": "code",
   "execution_count": 50,
   "metadata": {
    "collapsed": false
   },
   "outputs": [
    {
     "data": {
      "text/plain": [
       "<matplotlib.text.Text at 0x11833f290>"
      ]
     },
     "execution_count": 50,
     "metadata": {},
     "output_type": "execute_result"
    },
    {
     "data": {
      "image/png": "[encoded data removed]",
      "text/plain": [
       "<matplotlib.figure.Figure at 0x118ec0a50>"
      ]
     },
     "metadata": {},
     "output_type": "display_data"
    }
   ],
   "source": [
    "sns.set_style(\"darkgrid\")\n",
    "sns.set_context(rc={\"figure.figsize\": (8,4)})\n",
    "sns.barplot(weekday.index, weekday.values, palette=\"Blues\").set_title(\"Rides per Weekday\")"
   ]
  },
  {
   "cell_type": "markdown",
   "metadata": {},
   "source": [
    "## Rides per Month: 6/2016 - 4/2017"
   ]
  },
  {
   "cell_type": "code",
   "execution_count": 52,
   "metadata": {
    "collapsed": true
   },
   "outputs": [],
   "source": [
    "austin['yr_mo'] = austin['started_on'].apply(lambda x:x.strftime('%Y-%m'))"
   ]
  },
  {
   "cell_type": "code",
   "execution_count": 65,
   "metadata": {
    "collapsed": false
   },
   "outputs": [],
   "source": [
    "months= austin['yr_mo'].value_counts().sort_index()"
   ]
  },
  {
   "cell_type": "code",
   "execution_count": 88,
   "metadata": {
    "collapsed": false
   },
   "outputs": [
    {
     "data": {
      "text/plain": [
       "<matplotlib.text.Text at 0x11ee27990>"
      ]
     },
     "execution_count": 88,
     "metadata": {},
     "output_type": "execute_result"
    },
    {
     "data": {
      "image/png": "[encoded data removed]",
      "text/plain": [
       "<matplotlib.figure.Figure at 0x11999f190>"
      ]
     },
     "metadata": {},
     "output_type": "display_data"
    }
   ],
   "source": [
    "sns.set_style(\"darkgrid\")\n",
    "plt.figure(figsize = (10,5))\n",
    "sns.barplot(months.index, months.values, palette= \"GnBu_d\").set_title(\"Rides per Month\")"
   ]
  },
  {
   "cell_type": "markdown",
   "metadata": {},
   "source": [
    "## Rides by Month by Weekday"
   ]
  },
  {
   "cell_type": "code",
   "execution_count": 63,
   "metadata": {
    "collapsed": false
   },
   "outputs": [
    {
     "name": "stdout",
     "output_type": "stream",
     "text": [
      "weekday    Sun    Mon    Tue    Wed    Thu    Fri    Sat\n",
      "yr_mo                                                   \n",
      "2016-06    873    253    226    333    453    540    961\n",
      "2016-07   4076   1087    908    996   1295   2061   4079\n",
      "2016-08   9606   2951   2981   3470   3052   5188   9744\n",
      "2016-09  20716   9046   6156   7268  10819  20089  21287\n",
      "2016-10  53480  22218  10432  11315  14590  26639  53882\n",
      "2016-11  34640  14937  17178  17785  15972  22337  34917\n",
      "2016-12  30839  13120  13459  15290  20074  25924  39337\n",
      "2017-01  55964  22861  18557  15729  17068  24973  39850\n",
      "2017-02  52844  21501  16761  19783  21578  32199  50533\n",
      "2017-03  54358  31364  27909  35389  40406  58288  67413\n",
      "2017-04  25247  11631   9988  10868  12765  10507  28886\n"
     ]
    }
   ],
   "source": [
    "df = austin.pivot_table(index='yr_mo', columns='weekday', values='started_on', aggfunc='count')\n",
    "df = df.reindex_axis(['Sun', 'Mon', 'Tue', 'Wed', 'Thu', 'Fri', 'Sat'], axis=1)\n",
    "print(df)"
   ]
  },
  {
   "cell_type": "code",
   "execution_count": 157,
   "metadata": {
    "collapsed": false
   },
   "outputs": [
    {
     "data": {
      "text/plain": [
       "<matplotlib.text.Text at 0x12a2966d0>"
      ]
     },
     "execution_count": 157,
     "metadata": {},
     "output_type": "execute_result"
    },
    {
     "data": {
      "image/png": "[encoded data removed]",
      "text/plain": [
       "<matplotlib.figure.Figure at 0x128cd6c90>"
      ]
     },
     "metadata": {},
     "output_type": "display_data"
    }
   ],
   "source": [
    "plt.figure(figsize = (10,5))\n",
    "sns.heatmap(df, cmap=\"PuBuGn\").set_title(\"Month & Day of Week\")"
   ]
  },
  {
   "cell_type": "markdown",
   "metadata": {},
   "source": [
    "## Rides by Weekday by Hour"
   ]
  },
  {
   "cell_type": "code",
   "execution_count": 89,
   "metadata": {
    "collapsed": false
   },
   "outputs": [
    {
     "data": {
      "text/plain": [
       "<matplotlib.text.Text at 0x11f70c910>"
      ]
     },
     "execution_count": 89,
     "metadata": {},
     "output_type": "execute_result"
    },
    {
     "data": {
      "image/png": "[encoded data removed]",
      "text/plain": [
       "<matplotlib.figure.Figure at 0x11818ed10>"
      ]
     },
     "metadata": {},
     "output_type": "display_data"
    }
   ],
   "source": [
    "austin['hour'] = austin['started_on'].dt.round('H').dt.hour\n",
    "df1 = austin.pivot_table(index='hour', columns='weekday', values='started_on', aggfunc='count')\n",
    "df1 = df1.reindex_axis(['Sun', 'Mon', 'Tue', 'Wed', 'Thu', 'Fri', 'Sat'], axis=1)\n",
    "plt.figure(figsize = (16,5))\n",
    "sns.heatmap(df1, cmap=\"YlGnBu\").set_title(\"Ride Requests : Day of Week & Hours\")"
   ]
  },
  {
   "cell_type": "markdown",
   "metadata": {},
   "source": [
    "## Total Fare, Tip, Charity by Month "
   ]
  },
  {
   "cell_type": "code",
   "execution_count": 175,
   "metadata": {
    "collapsed": false
   },
   "outputs": [
    {
     "data": {
      "text/plain": [
       "<matplotlib.text.Text at 0x12e226fd0>"
      ]
     },
     "execution_count": 175,
     "metadata": {},
     "output_type": "execute_result"
    },
    {
     "data": {
      "image/png": "[encoded data removed]",
      "text/plain": [
       "<matplotlib.figure.Figure at 0x12dd21650>"
      ]
     },
     "metadata": {},
     "output_type": "display_data"
    }
   ],
   "source": [
    "tf = austin.pivot_table(index='yr_mo', values='total_fare', aggfunc=np.sum)\n",
    "tips = austin.pivot_table(index='yr_mo', values='tip', aggfunc=np.sum)\n",
    "charity = austin.pivot_table(index='yr_mo', values='round_up_amount', aggfunc=np.sum)\n",
    "tf_tips = pd.concat((tf,tips, charity), axis=1)\n",
    "\n",
    "tf_tips.plot(figsize=(10,6))\n",
    "plt.title(\"Total Fare, Tip, Charity by Month\", size=15)\n",
    "plt.ylabel(\"Sum of Total Fare\", size=12)\n",
    "plt.xlabel(\"Month\", size=12)"
   ]
  }
 ],
 "metadata": {
  "anaconda-cloud": {},
  "kernelspec": {
   "display_name": "Python [Root]",
   "language": "python",
   "name": "Python [Root]"
  },
  "language_info": {
   "codemirror_mode": {
    "name": "ipython",
    "version": 2
   },
   "file_extension": ".py",
   "mimetype": "text/x-python",
   "name": "python",
   "nbconvert_exporter": "python",
   "pygments_lexer": "ipython2",
   "version": "2.7.12"
  }
 },
 "nbformat": 4,
 "nbformat_minor": 0
}
